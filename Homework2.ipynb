{
  "nbformat": 4,
  "nbformat_minor": 0,
  "metadata": {
    "colab": {
      "provenance": []
    },
    "kernelspec": {
      "name": "python3",
      "display_name": "Python 3"
    },
    "language_info": {
      "name": "python"
    }
  },
  "cells": [
    {
      "cell_type": "code",
      "source": [
        "n=0\n",
        "while n<10: \n",
        "  print(n)\n",
        "  n=n+1\n",
        "  if n==5:\n",
        "    break\n",
        "  \n",
        "\n",
        " \n"
      ],
      "metadata": {
        "colab": {
          "base_uri": "https://localhost:8080/"
        },
        "id": "mg0dBJWjHdvF",
        "outputId": "cedc7455-1d68-4b6b-b4f2-90edda583b80"
      },
      "execution_count": 26,
      "outputs": [
        {
          "output_type": "stream",
          "name": "stdout",
          "text": [
            "0\n",
            "1\n",
            "2\n",
            "3\n",
            "4\n"
          ]
        }
      ]
    },
    {
      "cell_type": "code",
      "source": [
        "  n=0\n",
        "  while n < 5:\n",
        "    print(n) \n",
        "    n = n + 1\n",
        "print(\"5 is not less than 5\")"
      ],
      "metadata": {
        "colab": {
          "base_uri": "https://localhost:8080/"
        },
        "id": "B5rCtvB3Ih6t",
        "outputId": "7e3b57cc-5246-4428-ea81-5cf22710a97f"
      },
      "execution_count": 22,
      "outputs": [
        {
          "output_type": "stream",
          "name": "stdout",
          "text": [
            "0\n",
            "1\n",
            "2\n",
            "3\n",
            "4\n",
            "5 is not less than 5\n"
          ]
        }
      ]
    },
    {
      "cell_type": "code",
      "source": [
        "fruitlist=[\"bannana\", \"orange\"]\n",
        "for fruit in fruitlist:\n",
        "  print(\"I like\",fruit) \n",
        "veggielist=[\"apple\"] \n",
        "for veggie in veggielist:\n",
        " print(veggie,\"is really a fruit?\")"
      ],
      "metadata": {
        "colab": {
          "base_uri": "https://localhost:8080/"
        },
        "id": "7rNCRMK9KTeZ",
        "outputId": "6c8015e4-bef8-4c52-e4dc-59bb6e5b546f"
      },
      "execution_count": 60,
      "outputs": [
        {
          "output_type": "stream",
          "name": "stdout",
          "text": [
            "I like bannana\n",
            "I like orange\n",
            "apple is really a fruit?\n"
          ]
        }
      ]
    },
    {
      "cell_type": "code",
      "source": [
        "n=30\n",
        "sum=0\n",
        "i=1\n",
        "while i<=n:\n",
        "  sum=sum+i\n",
        "  i=i+1\n",
        "  print(sum)"
      ],
      "metadata": {
        "colab": {
          "base_uri": "https://localhost:8080/"
        },
        "id": "bZtCtQ9rOh51",
        "outputId": "68a9d81b-47ab-4e8c-b5c4-f39d63d74a22"
      },
      "execution_count": 33,
      "outputs": [
        {
          "output_type": "stream",
          "name": "stdout",
          "text": [
            "1\n",
            "3\n",
            "6\n",
            "10\n",
            "15\n",
            "21\n",
            "28\n",
            "36\n",
            "45\n",
            "55\n",
            "66\n",
            "78\n",
            "91\n",
            "105\n",
            "120\n",
            "136\n",
            "153\n",
            "171\n",
            "190\n",
            "210\n",
            "231\n",
            "253\n",
            "276\n",
            "300\n",
            "325\n",
            "351\n",
            "378\n",
            "406\n",
            "435\n",
            "465\n"
          ]
        }
      ]
    },
    {
      "cell_type": "code",
      "source": [
        "grade=55\n",
        "if grade >= 90:\n",
        "    print('A')\n",
        "elif grade >=80:\n",
        "    print('B')\n",
        "elif grade >= 70:\n",
        "    print('C')\n",
        "elif grade >= 60:\n",
        "    print('D')\n",
        "elif grade <60:\n",
        "    print('F')"
      ],
      "metadata": {
        "colab": {
          "base_uri": "https://localhost:8080/"
        },
        "id": "5RdHwzu2LIdk",
        "outputId": "31a0a99a-d11e-42a2-d1ee-cf6eef4aa8fe"
      },
      "execution_count": 40,
      "outputs": [
        {
          "output_type": "stream",
          "name": "stdout",
          "text": [
            "F\n"
          ]
        }
      ]
    },
    {
      "cell_type": "code",
      "execution_count": 160,
      "metadata": {
        "colab": {
          "base_uri": "https://localhost:8080/"
        },
        "id": "wRCUJ3kPFhaD",
        "outputId": "29b50b83-1940-42b6-9de8-1b9d29aa7c87"
      },
      "outputs": [
        {
          "output_type": "stream",
          "name": "stdout",
          "text": [
            "k= Andy v= 88\n",
            "k= Amy v= 66\n",
            "k= James v= 90\n",
            "k= Jules v= 55\n",
            "k= Arthur v= 77\n"
          ]
        }
      ],
      "source": [
        "marks={'Andy':88, 'Amy':66, 'James': 90, 'Jules': 55, 'Arthur': 77}\n",
        "for k,v in marks.items():\n",
        "    print('k=',k,'v=',v)"
      ]
    },
    {
      "cell_type": "code",
      "source": [
        "def max( v1, v2, v3,v4,v5): \n",
        "  max=v1 \n",
        "  if v2>max: \n",
        "    max=v2 \n",
        "  if v3>max: \n",
        "    max=v3\n",
        "  if v4>max:\n",
        "    max=v4\n",
        "  if v5>max:\n",
        "    max=v5\n",
        "  return max  \n",
        "max(88,66,90,55,77)"
      ],
      "metadata": {
        "colab": {
          "base_uri": "https://localhost:8080/"
        },
        "id": "p3J5B9bNaNyP",
        "outputId": "3670e6dd-1947-4898-86d7-4c01ef839908"
      },
      "execution_count": 165,
      "outputs": [
        {
          "output_type": "execute_result",
          "data": {
            "text/plain": [
              "90"
            ]
          },
          "metadata": {},
          "execution_count": 165
        }
      ]
    },
    {
      "cell_type": "code",
      "source": [
        "def mean(v1,v2,v3,v4,v5):\n",
        "  mean=v1+v2+v3+v4+v5/5\n",
        "  return mean\n",
        "mean=(88+66+90+55+77)/5\n",
        "print(mean)\n"
      ],
      "metadata": {
        "colab": {
          "base_uri": "https://localhost:8080/"
        },
        "id": "Qq6Lq4mNpLHO",
        "outputId": "10341f9c-3c74-48bd-ed0d-57cf2ff08668"
      },
      "execution_count": 195,
      "outputs": [
        {
          "output_type": "stream",
          "name": "stdout",
          "text": [
            "75.2\n"
          ]
        }
      ]
    },
    {
      "cell_type": "code",
      "source": [
        "def min( v1, v2, v3,v4,v5): \n",
        "  min=v1 \n",
        "  if v2<min: \n",
        "    min=v2 \n",
        "  if v3<min: \n",
        "    min=v3\n",
        "  if v4<min:\n",
        "    min=v4\n",
        "  if v5<min:\n",
        "    min=v5\n",
        "  return min  \n",
        "min(88,66,90,55,77)"
      ],
      "metadata": {
        "colab": {
          "base_uri": "https://localhost:8080/"
        },
        "id": "Yz1RpntCpAMi",
        "outputId": "d5ae0649-c239-417d-85e0-ab99b90ab372"
      },
      "execution_count": 166,
      "outputs": [
        {
          "output_type": "execute_result",
          "data": {
            "text/plain": [
              "55"
            ]
          },
          "metadata": {},
          "execution_count": 166
        }
      ]
    },
    {
      "cell_type": "code",
      "source": [
        "for i in ['Andy','Amy','James', 'Jules','Arthur']:\n",
        "  if 'J' in i:\n",
        "    break\n",
        "  print(i)"
      ],
      "metadata": {
        "colab": {
          "base_uri": "https://localhost:8080/"
        },
        "id": "KL-7nGlZe3Y9",
        "outputId": "30abbb8e-bcaf-43c2-ae91-d6f29a1ef920"
      },
      "execution_count": 126,
      "outputs": [
        {
          "output_type": "stream",
          "name": "stdout",
          "text": [
            "Andy\n",
            "Amy\n"
          ]
        }
      ]
    },
    {
      "cell_type": "code",
      "source": [
        "for i in ['Andy','Amy','James', 'Jules','Arthur']:\n",
        "   if 'J' in i:\n",
        "     continue\n",
        "   print(i)"
      ],
      "metadata": {
        "colab": {
          "base_uri": "https://localhost:8080/"
        },
        "id": "rPM8JePSfVeS",
        "outputId": "fc86d037-fe9f-4127-8bf1-6dcc6bf4ae08"
      },
      "execution_count": 125,
      "outputs": [
        {
          "output_type": "stream",
          "name": "stdout",
          "text": [
            "Andy\n",
            "Amy\n",
            "Arthur\n"
          ]
        }
      ]
    }
  ]
}